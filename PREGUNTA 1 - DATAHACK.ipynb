{
  "nbformat": 4,
  "nbformat_minor": 0,
  "metadata": {
    "colab": {
      "name": "Untitled5.ipynb",
      "provenance": []
    },
    "kernelspec": {
      "name": "python3",
      "display_name": "Python 3"
    }
  },
  "cells": [
    {
      "cell_type": "code",
      "metadata": {
        "colab": {
          "base_uri": "https://localhost:8080/"
        },
        "id": "g_ryMlPfdlZH",
        "outputId": "32d3099b-e7fc-4760-f3bc-afc119e9c4fa"
      },
      "source": [
        "M=int(input(\"Ingrese el numero aqui: \"))\r\n",
        "SUMA=M%10+M//10%10+M//10//10%10+M//10//10//10%10+M//10//10//10//10%10\r\n",
        "print(SUMA)"
      ],
      "execution_count": 10,
      "outputs": [
        {
          "output_type": "stream",
          "text": [
            "Ingrese el numero aqui: 3456\n",
            "18\n"
          ],
          "name": "stdout"
        }
      ]
    }
  ]
}