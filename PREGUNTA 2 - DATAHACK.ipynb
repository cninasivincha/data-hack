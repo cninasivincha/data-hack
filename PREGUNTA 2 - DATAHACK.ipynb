{
 "cells": [
  {
   "cell_type": "code",
   "execution_count": 1,
   "metadata": {
    "cocalc": {
     "outputs": {
      "0": {
       "name": "input",
       "opts": {
        "password": false,
        "prompt": "Ingrese un valor entero:"
       },
       "output_type": "stream",
       "value": "1"
      },
      "1": {
       "name": "input",
       "opts": {
        "password": false,
        "prompt": "Ingrese un valor entero:"
       },
       "output_type": "stream",
       "value": "2"
      },
      "2": {
       "name": "input",
       "opts": {
        "password": false,
        "prompt": "Ingrese un valor entero:"
       },
       "output_type": "stream",
       "value": "3"
      },
      "3": {
       "name": "input",
       "opts": {
        "password": false,
        "prompt": "Ingrese un valor entero:"
       },
       "output_type": "stream",
       "value": "4"
      },
      "4": {
       "name": "input",
       "opts": {
        "password": false,
        "prompt": "Ingrese un valor entero:"
       },
       "output_type": "stream",
       "value": "5"
      }
     }
    },
    "colab": {
     "base_uri": "https://localhost:8080/"
    },
    "collapsed": false,
    "id": "xketHB31pWbu",
    "outputId": "4b3c1644-e169-4fa3-e8ef-02a3178cfd51"
   },
   "outputs": [
    {
     "name": "stdout",
     "output_type": "stream",
     "text": "Ingrese un valor entero: 1"
    },
    {
     "name": "stdout",
     "output_type": "stream",
     "text": "Ingrese un valor entero: 2"
    },
    {
     "name": "stdout",
     "output_type": "stream",
     "text": "Ingrese un valor entero: 3"
    },
    {
     "name": "stdout",
     "output_type": "stream",
     "text": "Ingrese un valor entero: 4"
    },
    {
     "name": "stdout",
     "output_type": "stream",
     "text": "Ingrese un valor entero: 5"
    }
   ],
   "source": [
    "#se ingresa las listas de forma manual\n",
    "lista1=[]\n",
    "for x in range(5):\n",
    "    valor=int(input(\"Ingrese un valor entero:\"))\n",
    "    lista1.append(valor)"
   ]
  },
  {
   "cell_type": "code",
   "execution_count": 2,
   "metadata": {
    "cocalc": {
     "outputs": {
      "0": {
       "name": "input",
       "opts": {
        "password": false,
        "prompt": "Ingrese un valor entero:"
       },
       "output_type": "stream",
       "value": "2"
      },
      "1": {
       "name": "input",
       "opts": {
        "password": false,
        "prompt": "Ingrese un valor entero:"
       },
       "output_type": "stream",
       "value": "3"
      },
      "2": {
       "name": "input",
       "opts": {
        "password": false,
        "prompt": "Ingrese un valor entero:"
       },
       "output_type": "stream",
       "value": "4"
      },
      "3": {
       "name": "input",
       "opts": {
        "password": false,
        "prompt": "Ingrese un valor entero:"
       },
       "output_type": "stream",
       "value": "5"
      },
      "4": {
       "name": "input",
       "opts": {
        "password": false,
        "prompt": "Ingrese un valor entero:"
       },
       "output_type": "stream",
       "value": "6"
      }
     }
    },
    "colab": {
     "base_uri": "https://localhost:8080/"
    },
    "collapsed": false,
    "id": "8uNSde-5paWT",
    "outputId": "801735c0-99d0-4726-b77f-a2121d8f37f5"
   },
   "outputs": [
    {
     "name": "stdout",
     "output_type": "stream",
     "text": "Ingrese un valor entero: 2"
    },
    {
     "name": "stdout",
     "output_type": "stream",
     "text": "Ingrese un valor entero: 3"
    },
    {
     "name": "stdout",
     "output_type": "stream",
     "text": "Ingrese un valor entero: 4"
    },
    {
     "name": "stdout",
     "output_type": "stream",
     "text": "Ingrese un valor entero: 5"
    },
    {
     "name": "stdout",
     "output_type": "stream",
     "text": "Ingrese un valor entero: 6"
    }
   ],
   "source": [
    "lista2=[]\n",
    "for x in range(5):\n",
    "    valor=int(input(\"Ingrese un valor entero:\"))\n",
    "    lista2.append(valor)"
   ]
  },
  {
   "cell_type": "code",
   "execution_count": 5,
   "metadata": {
    "colab": {
     "base_uri": "https://localhost:8080/"
    },
    "collapsed": false,
    "id": "I4SzR2hipOBo",
    "outputId": "dec5ab8d-74bf-4547-95cf-d15c91c3fa0d"
   },
   "outputs": [
    {
     "name": "stdout",
     "output_type": "stream",
     "text": [
      "True\n"
     ]
    }
   ],
   "source": [
    "lista1.sort() #se ordena la primera lista para obtener el menor valor y compararlo en la segunda lista\n",
    "print(lista1[0] in lista2) #se imprime un valor logico "
   ]
  }
 ],
 "metadata": {
  "colab": {
   "collapsed_sections": [
   ],
   "name": "Untitled1.ipynb",
   "provenance": [
   ]
  },
  "kernelspec": {
   "display_name": "Python 3 (system-wide)",
   "language": "python",
   "metadata": {
    "cocalc": {
     "description": "Python 3 programming language",
     "priority": 100,
     "url": "https://www.python.org/"
    }
   },
   "name": "python3",
   "resource_dir": "/ext/jupyter/kernels/python3"
  },
  "language_info": {
   "codemirror_mode": {
    "name": "ipython",
    "version": 3
   },
   "file_extension": ".py",
   "mimetype": "text/x-python",
   "name": "python",
   "nbconvert_exporter": "python",
   "pygments_lexer": "ipython3",
   "version": "3.8.5"
  }
 },
 "nbformat": 4,
 "nbformat_minor": 4
}