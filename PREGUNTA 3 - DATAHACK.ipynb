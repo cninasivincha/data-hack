{
  "nbformat": 4,
  "nbformat_minor": 0,
  "metadata": {
    "colab": {
      "name": "Untitled0.ipynb",
      "provenance": []
    },
    "kernelspec": {
      "name": "python3",
      "display_name": "Python 3"
    }
  },
  "cells": [
    {
      "cell_type": "code",
      "metadata": {
        "id": "If6SC8Yn5Jpz"
      },
      "source": [
        "import numpy as np #sd importa la libreria para crear arrrays de num aleatorios\r\n",
        "A=np.random.randint(0, 100, 9) #se crea el primer array\r\n",
        "AA = A.tolist() #se convierte en lista\r\n",
        "B=np.random.randint(0, 100, 9) #se crea el segundo array\r\n",
        "BB= B.tolist() "
      ],
      "execution_count": 3,
      "outputs": []
    },
    {
      "cell_type": "code",
      "metadata": {
        "colab": {
          "base_uri": "https://localhost:8080/"
        },
        "id": "QKBzVri76_c3",
        "outputId": "6b63bd5b-5cbe-4856-edef-96c19cf597aa"
      },
      "source": [
        "print(AA)\r\n",
        "print(BB)\r\n",
        "if (set(AA).intersection(set(BB)) == set()):\r\n",
        "  print(\"No hay numeros repetidos\")\r\n",
        "else:\r\n",
        "  print(set(AA).intersection(set(BB)))\r\n"
      ],
      "execution_count": 12,
      "outputs": [
        {
          "output_type": "stream",
          "text": [
            "[13, 11, 14, 56, 2, 0, 17, 47, 26]\n",
            "[80, 18, 40, 65, 91, 22, 15, 71, 78]\n",
            "No hay numeros repetidos\n"
          ],
          "name": "stdout"
        }
      ]
    }
  ]
}